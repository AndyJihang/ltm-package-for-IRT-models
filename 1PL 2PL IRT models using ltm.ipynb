{
 "cells": [
  {
   "cell_type": "code",
   "execution_count": 2,
   "id": "cd2df178",
   "metadata": {},
   "outputs": [
    {
     "name": "stderr",
     "output_type": "stream",
     "text": [
      "Warning message:\n",
      "\"package 'haven' was built under R version 4.1.3\"\n",
      "Loading required package: MASS\n",
      "\n",
      "Loading required package: msm\n",
      "\n",
      "Loading required package: polycor\n",
      "\n"
     ]
    }
   ],
   "source": [
    "library(haven)\n",
    "library(ltm)"
   ]
  },
  {
   "cell_type": "code",
   "execution_count": 3,
   "id": "20630c63",
   "metadata": {},
   "outputs": [],
   "source": [
    "setwd(\"C://Users//jihan//Downloads\")\n",
    "raw_data_location <- \"Amigas_Latinas_SWLS(n=199).sav\"\n",
    "raw_data_file <- read_sav(raw_data_location)"
   ]
  },
  {
   "cell_type": "code",
   "execution_count": 4,
   "id": "0bf5dc90",
   "metadata": {},
   "outputs": [
    {
     "data": {
      "text/html": [
       "<table class=\"dataframe\">\n",
       "<caption>A matrix: 5 × 5 of type dbl</caption>\n",
       "<thead>\n",
       "\t<tr><th></th><th scope=col>happy1</th><th scope=col>happy2</th><th scope=col>happy3</th><th scope=col>happy4</th><th scope=col>happy5</th></tr>\n",
       "</thead>\n",
       "<tbody>\n",
       "\t<tr><th scope=row>happy1</th><td>0.4874</td><td>    NA</td><td>    NA</td><td>    NA</td><td>    NA</td></tr>\n",
       "\t<tr><th scope=row>happy2</th><td>0.4221</td><td>0.5075</td><td>    NA</td><td>    NA</td><td>    NA</td></tr>\n",
       "\t<tr><th scope=row>happy3</th><td>0.4271</td><td>0.4523</td><td>0.6080</td><td>    NA</td><td>    NA</td></tr>\n",
       "\t<tr><th scope=row>happy4</th><td>0.4372</td><td>0.4623</td><td>0.5578</td><td>0.6784</td><td>    NA</td></tr>\n",
       "\t<tr><th scope=row>happy5</th><td>0.3216</td><td>0.3367</td><td>0.3920</td><td>0.4171</td><td>0.4724</td></tr>\n",
       "</tbody>\n",
       "</table>\n"
      ],
      "text/latex": [
       "A matrix: 5 × 5 of type dbl\n",
       "\\begin{tabular}{r|lllll}\n",
       "  & happy1 & happy2 & happy3 & happy4 & happy5\\\\\n",
       "\\hline\n",
       "\thappy1 & 0.4874 &     NA &     NA &     NA &     NA\\\\\n",
       "\thappy2 & 0.4221 & 0.5075 &     NA &     NA &     NA\\\\\n",
       "\thappy3 & 0.4271 & 0.4523 & 0.6080 &     NA &     NA\\\\\n",
       "\thappy4 & 0.4372 & 0.4623 & 0.5578 & 0.6784 &     NA\\\\\n",
       "\thappy5 & 0.3216 & 0.3367 & 0.3920 & 0.4171 & 0.4724\\\\\n",
       "\\end{tabular}\n"
      ],
      "text/markdown": [
       "\n",
       "A matrix: 5 × 5 of type dbl\n",
       "\n",
       "| <!--/--> | happy1 | happy2 | happy3 | happy4 | happy5 |\n",
       "|---|---|---|---|---|---|\n",
       "| happy1 | 0.4874 |     NA |     NA |     NA |     NA |\n",
       "| happy2 | 0.4221 | 0.5075 |     NA |     NA |     NA |\n",
       "| happy3 | 0.4271 | 0.4523 | 0.6080 |     NA |     NA |\n",
       "| happy4 | 0.4372 | 0.4623 | 0.5578 | 0.6784 |     NA |\n",
       "| happy5 | 0.3216 | 0.3367 | 0.3920 | 0.4171 | 0.4724 |\n",
       "\n"
      ],
      "text/plain": [
       "       happy1 happy2 happy3 happy4 happy5\n",
       "happy1 0.4874     NA     NA     NA     NA\n",
       "happy2 0.4221 0.5075     NA     NA     NA\n",
       "happy3 0.4271 0.4523 0.6080     NA     NA\n",
       "happy4 0.4372 0.4623 0.5578 0.6784     NA\n",
       "happy5 0.3216 0.3367 0.3920 0.4171 0.4724"
      ]
     },
     "metadata": {},
     "output_type": "display_data"
    }
   ],
   "source": [
    "num_items <- 5\n",
    "raw_m <- as.matrix(raw_data_file[,2:6])\n",
    "\n",
    "n_respondents <- nrow(raw_m)\n",
    "raw_mprime <- as.matrix(t(raw_m))\n",
    "mprime_m <-  raw_mprime %*% raw_m\n",
    "product_moment_m <- mprime_m/n_respondents\n",
    "raw_product_moment_matrix <- round(product_moment_m, digits = 4)\n",
    "raw_product_moment_matrix [upper.tri(raw_product_moment_matrix)] <- NA\n",
    "raw_product_moment_matrix"
   ]
  },
  {
   "cell_type": "code",
   "execution_count": 5,
   "id": "ac04be48",
   "metadata": {},
   "outputs": [
    {
     "data": {
      "text/html": [
       "0.999074258749095"
      ],
      "text/latex": [
       "0.999074258749095"
      ],
      "text/markdown": [
       "0.999074258749095"
      ],
      "text/plain": [
       "[1] 0.999074"
      ]
     },
     "metadata": {},
     "output_type": "display_data"
    },
    {
     "data": {
      "text/html": [
       "0.0129998953258112"
      ],
      "text/latex": [
       "0.0129998953258112"
      ],
      "text/markdown": [
       "0.0129998953258112"
      ],
      "text/plain": [
       "[1] 0.0129999"
      ]
     },
     "metadata": {},
     "output_type": "display_data"
    },
    {
     "data": {
      "text/html": [
       "<table class=\"dataframe\">\n",
       "<caption>A matrix: 5 × 5 of type dbl</caption>\n",
       "<thead>\n",
       "\t<tr><th></th><th scope=col>happy1</th><th scope=col>happy2</th><th scope=col>happy3</th><th scope=col>happy4</th><th scope=col>happy5</th></tr>\n",
       "</thead>\n",
       "<tbody>\n",
       "\t<tr><th scope=row>happy1</th><td> 0.0000</td><td> 0.0240</td><td>-0.0103</td><td>-0.014</td><td>-0.0071</td></tr>\n",
       "\t<tr><th scope=row>happy2</th><td> 0.0240</td><td> 0.0000</td><td>-0.0087</td><td>-0.012</td><td>-0.0082</td></tr>\n",
       "\t<tr><th scope=row>happy3</th><td>-0.0103</td><td>-0.0087</td><td> 0.0000</td><td> 0.017</td><td> 0.0061</td></tr>\n",
       "\t<tr><th scope=row>happy4</th><td>-0.0138</td><td>-0.0120</td><td> 0.0175</td><td> 0.000</td><td> 0.0117</td></tr>\n",
       "\t<tr><th scope=row>happy5</th><td>-0.0071</td><td>-0.0082</td><td> 0.0061</td><td> 0.012</td><td> 0.0000</td></tr>\n",
       "</tbody>\n",
       "</table>\n"
      ],
      "text/latex": [
       "A matrix: 5 × 5 of type dbl\n",
       "\\begin{tabular}{r|lllll}\n",
       "  & happy1 & happy2 & happy3 & happy4 & happy5\\\\\n",
       "\\hline\n",
       "\thappy1 &  0.0000 &  0.0240 & -0.0103 & -0.014 & -0.0071\\\\\n",
       "\thappy2 &  0.0240 &  0.0000 & -0.0087 & -0.012 & -0.0082\\\\\n",
       "\thappy3 & -0.0103 & -0.0087 &  0.0000 &  0.017 &  0.0061\\\\\n",
       "\thappy4 & -0.0138 & -0.0120 &  0.0175 &  0.000 &  0.0117\\\\\n",
       "\thappy5 & -0.0071 & -0.0082 &  0.0061 &  0.012 &  0.0000\\\\\n",
       "\\end{tabular}\n"
      ],
      "text/markdown": [
       "\n",
       "A matrix: 5 × 5 of type dbl\n",
       "\n",
       "| <!--/--> | happy1 | happy2 | happy3 | happy4 | happy5 |\n",
       "|---|---|---|---|---|---|\n",
       "| happy1 |  0.0000 |  0.0240 | -0.0103 | -0.014 | -0.0071 |\n",
       "| happy2 |  0.0240 |  0.0000 | -0.0087 | -0.012 | -0.0082 |\n",
       "| happy3 | -0.0103 | -0.0087 |  0.0000 |  0.017 |  0.0061 |\n",
       "| happy4 | -0.0138 | -0.0120 |  0.0175 |  0.000 |  0.0117 |\n",
       "| happy5 | -0.0071 | -0.0082 |  0.0061 |  0.012 |  0.0000 |\n",
       "\n"
      ],
      "text/plain": [
       "       happy1  happy2  happy3  happy4 happy5 \n",
       "happy1  0.0000  0.0240 -0.0103 -0.014 -0.0071\n",
       "happy2  0.0240  0.0000 -0.0087 -0.012 -0.0082\n",
       "happy3 -0.0103 -0.0087  0.0000  0.017  0.0061\n",
       "happy4 -0.0138 -0.0120  0.0175  0.000  0.0117\n",
       "happy5 -0.0071 -0.0082  0.0061  0.012  0.0000"
      ]
     },
     "metadata": {},
     "output_type": "display_data"
    }
   ],
   "source": [
    "#- Model 1: Unidimensional model\n",
    "mod1 <- sirt::noharm.sirt(pm=product_moment_m, N=n_respondents, dimensions=1)\n",
    "options(digits=6)\n",
    "mod1$tanaka\n",
    "mod1$rmsr\n",
    "options(digits=2)\n",
    "mod1$residuals"
   ]
  },
  {
   "cell_type": "code",
   "execution_count": 6,
   "id": "77a60110",
   "metadata": {},
   "outputs": [
    {
     "data": {
      "text/html": [
       "0.9999988848484"
      ],
      "text/latex": [
       "0.9999988848484"
      ],
      "text/markdown": [
       "0.9999988848484"
      ],
      "text/plain": [
       "[1] 0.999999"
      ]
     },
     "metadata": {},
     "output_type": "display_data"
    },
    {
     "data": {
      "text/html": [
       "0.000451192636363443"
      ],
      "text/latex": [
       "0.000451192636363443"
      ],
      "text/markdown": [
       "0.000451192636363443"
      ],
      "text/plain": [
       "[1] 0.000451193"
      ]
     },
     "metadata": {},
     "output_type": "display_data"
    },
    {
     "data": {
      "text/html": [
       "<table class=\"dataframe\">\n",
       "<caption>A matrix: 5 × 5 of type dbl</caption>\n",
       "<thead>\n",
       "\t<tr><th></th><th scope=col>happy1</th><th scope=col>happy2</th><th scope=col>happy3</th><th scope=col>happy4</th><th scope=col>happy5</th></tr>\n",
       "</thead>\n",
       "<tbody>\n",
       "\t<tr><th scope=row>happy1</th><td> 0.0e+00</td><td> 6.6e-07</td><td>-4.6e-04</td><td>-1.4e-04</td><td> 8.9e-04</td></tr>\n",
       "\t<tr><th scope=row>happy2</th><td> 6.6e-07</td><td> 0.0e+00</td><td> 4.5e-04</td><td> 1.5e-04</td><td>-8.9e-04</td></tr>\n",
       "\t<tr><th scope=row>happy3</th><td>-4.6e-04</td><td> 4.5e-04</td><td> 0.0e+00</td><td>-4.9e-05</td><td> 2.4e-05</td></tr>\n",
       "\t<tr><th scope=row>happy4</th><td>-1.4e-04</td><td> 1.5e-04</td><td>-4.9e-05</td><td> 0.0e+00</td><td> 5.8e-05</td></tr>\n",
       "\t<tr><th scope=row>happy5</th><td> 8.9e-04</td><td>-8.9e-04</td><td> 2.4e-05</td><td> 5.8e-05</td><td> 0.0e+00</td></tr>\n",
       "</tbody>\n",
       "</table>\n"
      ],
      "text/latex": [
       "A matrix: 5 × 5 of type dbl\n",
       "\\begin{tabular}{r|lllll}\n",
       "  & happy1 & happy2 & happy3 & happy4 & happy5\\\\\n",
       "\\hline\n",
       "\thappy1 &  0.0e+00 &  6.6e-07 & -4.6e-04 & -1.4e-04 &  8.9e-04\\\\\n",
       "\thappy2 &  6.6e-07 &  0.0e+00 &  4.5e-04 &  1.5e-04 & -8.9e-04\\\\\n",
       "\thappy3 & -4.6e-04 &  4.5e-04 &  0.0e+00 & -4.9e-05 &  2.4e-05\\\\\n",
       "\thappy4 & -1.4e-04 &  1.5e-04 & -4.9e-05 &  0.0e+00 &  5.8e-05\\\\\n",
       "\thappy5 &  8.9e-04 & -8.9e-04 &  2.4e-05 &  5.8e-05 &  0.0e+00\\\\\n",
       "\\end{tabular}\n"
      ],
      "text/markdown": [
       "\n",
       "A matrix: 5 × 5 of type dbl\n",
       "\n",
       "| <!--/--> | happy1 | happy2 | happy3 | happy4 | happy5 |\n",
       "|---|---|---|---|---|---|\n",
       "| happy1 |  0.0e+00 |  6.6e-07 | -4.6e-04 | -1.4e-04 |  8.9e-04 |\n",
       "| happy2 |  6.6e-07 |  0.0e+00 |  4.5e-04 |  1.5e-04 | -8.9e-04 |\n",
       "| happy3 | -4.6e-04 |  4.5e-04 |  0.0e+00 | -4.9e-05 |  2.4e-05 |\n",
       "| happy4 | -1.4e-04 |  1.5e-04 | -4.9e-05 |  0.0e+00 |  5.8e-05 |\n",
       "| happy5 |  8.9e-04 | -8.9e-04 |  2.4e-05 |  5.8e-05 |  0.0e+00 |\n",
       "\n"
      ],
      "text/plain": [
       "       happy1   happy2   happy3   happy4   happy5  \n",
       "happy1  0.0e+00  6.6e-07 -4.6e-04 -1.4e-04  8.9e-04\n",
       "happy2  6.6e-07  0.0e+00  4.5e-04  1.5e-04 -8.9e-04\n",
       "happy3 -4.6e-04  4.5e-04  0.0e+00 -4.9e-05  2.4e-05\n",
       "happy4 -1.4e-04  1.5e-04 -4.9e-05  0.0e+00  5.8e-05\n",
       "happy5  8.9e-04 -8.9e-04  2.4e-05  5.8e-05  0.0e+00"
      ]
     },
     "metadata": {},
     "output_type": "display_data"
    }
   ],
   "source": [
    "#- Model 2: Two-dimensional model\n",
    "mod2 <- sirt::noharm.sirt(pm=product_moment_m, N=n_respondents, dimensions=2)\n",
    "options(digits=6)\n",
    "mod2$tanaka\n",
    "mod2$rmsr\n",
    "options(digits=2)\n",
    "mod2$residuals"
   ]
  },
  {
   "cell_type": "code",
   "execution_count": 7,
   "id": "5d07bd99",
   "metadata": {},
   "outputs": [
    {
     "data": {
      "text/plain": [
       "\n",
       "Call:\n",
       "rasch(data = dat)\n",
       "\n",
       "Model Summary:\n",
       " log.Lik  AIC  BIC\n",
       "    -521 1053 1073\n",
       "\n",
       "Coefficients:\n",
       "               value std.err z.vals\n",
       "Dffclt.happy1  0.056    0.11  0.524\n",
       "Dffclt.happy2 -0.003    0.11 -0.027\n",
       "Dffclt.happy3 -0.307    0.11 -2.779\n",
       "Dffclt.happy4 -0.536    0.12 -4.650\n",
       "Dffclt.happy5  0.101    0.11  0.934\n",
       "Dscrmn         2.779    0.27 10.169\n",
       "\n",
       "Integration:\n",
       "method: Gauss-Hermite\n",
       "quadrature points: 21 \n",
       "\n",
       "Optimization:\n",
       "Convergence: 0 \n",
       "max(|grad|): 0.0011 \n",
       "quasi-Newton: BFGS \n",
       "\n"
      ]
     },
     "metadata": {},
     "output_type": "display_data"
    },
    {
     "data": {
      "text/plain": [
       "\n",
       "Item-Fit Statistics and P-values\n",
       "\n",
       "Call:\n",
       "rasch(data = dat)\n",
       "\n",
       "Alternative: Items do not fit the model\n",
       "Ability Categories: 10\n",
       "Monte Carlo samples: 100 \n",
       "\n",
       "        X^2 Pr(>X^2)\n",
       "happy1  7.7   0.5842\n",
       "happy2 16.3   0.0594\n",
       "happy3  6.6   0.3168\n",
       "happy4  3.2   0.7624\n",
       "happy5 17.8   0.0297\n",
       "\n"
      ]
     },
     "metadata": {},
     "output_type": "display_data"
    }
   ],
   "source": [
    "# Rasch Model\n",
    "dat <- raw_m\n",
    "res_Rasch_model<-rasch(dat)\n",
    "summary(res_Rasch_model)\n",
    "item.fit(res_Rasch_model,simulate.p.value=T)"
   ]
  },
  {
   "cell_type": "code",
   "execution_count": 8,
   "id": "f531080f",
   "metadata": {},
   "outputs": [
    {
     "data": {
      "text/plain": [
       "\n",
       "Call:\n",
       "ltm(formula = dat ~ z1)\n",
       "\n",
       "Model Summary:\n",
       " log.Lik  AIC  BIC\n",
       "    -511 1042 1075\n",
       "\n",
       "Coefficients:\n",
       "               value std.err z.vals\n",
       "Dffclt.happy1  0.062    0.11  0.571\n",
       "Dffclt.happy2  0.007    0.10  0.071\n",
       "Dffclt.happy3 -0.279    0.11 -2.468\n",
       "Dffclt.happy4 -0.526    0.12 -4.362\n",
       "Dffclt.happy5  0.125    0.14  0.883\n",
       "Dscrmn.happy1  3.364    0.78  4.287\n",
       "Dscrmn.happy2  4.308    1.24  3.469\n",
       "Dscrmn.happy3  3.709    0.90  4.102\n",
       "Dscrmn.happy4  2.866    0.62  4.647\n",
       "Dscrmn.happy5  1.453    0.29  5.085\n",
       "\n",
       "Integration:\n",
       "method: Gauss-Hermite\n",
       "quadrature points: 21 \n",
       "\n",
       "Optimization:\n",
       "Convergence: 0 \n",
       "max(|grad|): 0.0058 \n",
       "quasi-Newton: BFGS \n"
      ]
     },
     "metadata": {},
     "output_type": "display_data"
    },
    {
     "data": {
      "text/plain": [
       "\n",
       "Item-Fit Statistics and P-values\n",
       "\n",
       "Call:\n",
       "ltm(formula = dat ~ z1)\n",
       "\n",
       "Alternative: Items do not fit the model\n",
       "Ability Categories: 10\n",
       "Monte Carlo samples: 100 \n",
       "\n",
       "       X^2 Pr(>X^2)\n",
       "happy1  32   0.2475\n",
       "happy2  17   0.4653\n",
       "happy3  22   0.4554\n",
       "happy4  13   0.7921\n",
       "happy5  51   0.1386\n",
       "\n"
      ]
     },
     "metadata": {},
     "output_type": "display_data"
    }
   ],
   "source": [
    "# 2PL model\n",
    "res_2PL_model <- ltm(dat~z1)\n",
    "summary(res_2PL_model)\n",
    "item.fit(res_2PL_model,simulate.p.value=T)"
   ]
  },
  {
   "cell_type": "code",
   "execution_count": 9,
   "id": "b6c0e88a",
   "metadata": {},
   "outputs": [
    {
     "data": {
      "image/png": "[encoded data removed]",
      "text/plain": [
       "Plot with title \"Item Characteristic Curves\""
      ]
     },
     "metadata": {
      "image/png": {
       "height": 420,
       "width": 420
      }
     },
     "output_type": "display_data"
    },
    {
     "data": {
      "image/png": "[encoded data removed]",
      "text/plain": [
       "Plot with title \"Item Characteristic Curves\""
      ]
     },
     "metadata": {
      "image/png": {
       "height": 420,
       "width": 420
      }
     },
     "output_type": "display_data"
    }
   ],
   "source": [
    "plot(res_Rasch_model, items = c(1, 2, 3, 4, 5), lwd = 2, legend = TRUE, cx = \"right\")\n",
    "plot(res_2PL_model, items = c(1, 2, 3, 4, 5), lwd = 2, legend = TRUE, cx = \"right\")"
   ]
  },
  {
   "cell_type": "code",
   "execution_count": 18,
   "id": "adef4ada",
   "metadata": {},
   "outputs": [
    {
     "data": {
      "image/png": "[encoded data removed]",
      "text/plain": [
       "Plot with title \"Test Information Function\""
      ]
     },
     "metadata": {
      "image/png": {
       "height": 420,
       "width": 420
      }
     },
     "output_type": "display_data"
    }
   ],
   "source": [
    "plot(res_Rasch_model, type = \"IIC\", items = 0, lwd = 2)\n",
    "vals <- plot(res_Rasch_model, type = \"IIC\", items = 0, plot = FALSE)\n",
    "lines(vals[, \"z\"], 1 / sqrt(vals[, \"info\"]), type = \"l\", lwd = 0.3,col=\"blue\",\n",
    "xlab = \"Ability\", ylab = \"Standard Error\",\n",
    "main = \"Standard Error of Measurement\")"
   ]
  },
  {
   "cell_type": "code",
   "execution_count": 20,
   "id": "3131e0ea",
   "metadata": {},
   "outputs": [
    {
     "data": {
      "image/png": "[encoded data removed]",
      "text/plain": [
       "Plot with title \"Test Information Function\""
      ]
     },
     "metadata": {
      "image/png": {
       "height": 420,
       "width": 420
      }
     },
     "output_type": "display_data"
    }
   ],
   "source": [
    "plot(res_2PL_model, type = \"IIC\", items = 0, lwd = 2)\n",
    "vals <- plot(res_2PL_model, type = \"IIC\", items = 0, plot = FALSE)\n",
    "lines(vals[, \"z\"], 1 / sqrt(vals[, \"info\"]), type = \"l\", lwd = 0.3,col=\"blue\",\n",
    "xlab = \"Ability\", ylab = \"Standard Error\",\n",
    "main = \"Standard Error of Measurement\")"
   ]
  },
  {
   "cell_type": "code",
   "execution_count": 101,
   "id": "a8e4850c",
   "metadata": {},
   "outputs": [
    {
     "data": {
      "text/html": [
       "0.758108912575625"
      ],
      "text/latex": [
       "0.758108912575625"
      ],
      "text/markdown": [
       "0.758108912575625"
      ],
      "text/plain": [
       "[1] 0.76"
      ]
     },
     "metadata": {},
     "output_type": "display_data"
    },
    {
     "data": {
      "text/html": [
       "0.761344207936178"
      ],
      "text/latex": [
       "0.761344207936178"
      ],
      "text/markdown": [
       "0.761344207936178"
      ],
      "text/plain": [
       "[1] 0.76"
      ]
     },
     "metadata": {},
     "output_type": "display_data"
    }
   ],
   "source": [
    "rel.ltm <- function(x) {\n",
    "    eap <- ltm::factor.scores(x, method=\"EAP\")$score.dat\n",
    "    e <- sum(eap$Obs*eap$se.z1^2)/sum(eap$Obs)\n",
    "    s <- sum(eap$Obs*eap$z1^2)/sum(eap$Obs)\n",
    "    1-(e/(s+e))\n",
    "}\n",
    "rel.ltm(res_Rasch_model)\n",
    "rel.ltm(res_2PL_model)"
   ]
  }
 ],
 "metadata": {
  "kernelspec": {
   "display_name": "R",
   "language": "R",
   "name": "ir"
  },
  "language_info": {
   "codemirror_mode": "r",
   "file_extension": ".r",
   "mimetype": "text/x-r-source",
   "name": "R",
   "pygments_lexer": "r",
   "version": "4.1.2"
  }
 },
 "nbformat": 4,
 "nbformat_minor": 5
}
